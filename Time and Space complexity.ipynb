{
 "cells": [
  {
   "cell_type": "markdown",
   "id": "aa5a3125",
   "metadata": {},
   "source": [
    "#                                                 __Algorithmics__"
   ]
  },
  {
   "cell_type": "markdown",
   "id": "1cf220cd",
   "metadata": {},
   "source": [
    "**EX 2 and EX 3** "
   ]
  },
  {
   "cell_type": "markdown",
   "id": "0c800d06",
   "metadata": {},
   "source": [
    "1) Find out how to generate random integers/numbers in your choice of a programming language and write a reusable code to generate a list/array of N integers in a given range (e.g. between -100 and 100).\n",
    "\n",
    "2) Figure out how to perform a timing experiment - how long does it take to run your code. One simple way to do it would be to find time before code execution and then after execution. The time taken is then the difference between those two times."
   ]
  },
  {
   "cell_type": "markdown",
   "id": "4e0e66ec",
   "metadata": {},
   "source": [
    " - Explanation: The code I provided below is the solutions of the **task 1** and the **task 2**. Here I generated random numbers in the list, and also I measure the time spending to run my code."
   ]
  },
  {
   "cell_type": "code",
   "execution_count": 1,
   "id": "87a596a2",
   "metadata": {},
   "outputs": [
    {
     "name": "stdout",
     "output_type": "stream",
     "text": [
      "5\n",
      "-100 100\n",
      "[64, 58, -81, -98, -56]\n",
      "0.0\n"
     ]
    }
   ],
   "source": [
    "#importing the library to generate random numbers\n",
    "import random\n",
    "\n",
    "#importing time library to count time\n",
    "import time\n",
    "\n",
    "#N variable is the number of integers\n",
    "N = int(input())\n",
    "\n",
    "#giving range to get numbers between this range\n",
    "rng = input()\n",
    "\n",
    "#list of range\n",
    "lst = rng.split()\n",
    "\n",
    "#random numbers list\n",
    "lst_random = []\n",
    "\n",
    "#starting the time\n",
    "start = time.time()\n",
    "\n",
    "#adding the random numbers to list\n",
    "for i in range(N):\n",
    "    lst_random.append(random.randint(int(lst[0]), int(lst[-1])))\n",
    "\n",
    "print(lst_random)\n",
    "    \n",
    "#ending the time\n",
    "end = time.time()\n",
    "\n",
    "#printing the time spend\n",
    "print(end-start)"
   ]
  },
  {
   "cell_type": "markdown",
   "id": "bcdf4bec",
   "metadata": {},
   "source": [
    "3)Measure the time it takes to execute the following code as the size of the input increases. The code for Python is provided. If you want to use some other programming language, feel free to rewrite it, it should be rather simple. The code just takes an input of a list of numbers and sums up odd integers within the list. To complete this task, generate lists of increasing size, e.g., use powers 2,4,...2**(25) and run the above code and measure time taken. For each size, run the experiment 5 times (every time generating a new input list! Why?) and calculate the average time it took for each input size."
   ]
  },
  {
   "cell_type": "markdown",
   "id": "a9b8c48f",
   "metadata": {},
   "source": [
    "**Solution**\n",
    "\n",
    "I wrote the code which generate the random numbers list, and calculate the sum of the odd numbers in the list. The size of the list starting from 2 and increases as a power of two. As a result I have 25 list, and for each size I create five list and sum the all the time spending for these lists and divide this sum by 5.  "
   ]
  },
  {
   "cell_type": "code",
   "execution_count": 2,
   "id": "fb9f2199",
   "metadata": {},
   "outputs": [
    {
     "name": "stdout",
     "output_type": "stream",
     "text": [
      "0.0\n",
      "0.0\n",
      "0.0\n",
      "0.0\n",
      "0.0\n",
      "0.0\n",
      "0.0\n",
      "0.0\n",
      "0.0\n",
      "0.00018253326416015626\n",
      "0.00014901161193847656\n",
      "0.00039157867431640627\n",
      "0.00039958953857421875\n",
      "0.0032357215881347657\n",
      "0.003733205795288086\n",
      "0.004625463485717773\n",
      "0.009305953979492188\n",
      "0.02008519172668457\n",
      "0.037682723999023435\n",
      "0.08733878135681153\n",
      "0.1529329776763916\n",
      "0.3377493381500244\n",
      "0.5568781852722168\n",
      "1.199675941467285\n",
      "2.374152421951294\n"
     ]
    }
   ],
   "source": [
    "#importing time library to count time\n",
    "import time\n",
    "\n",
    "#importing the library to generate random numbers in the arrays\n",
    "import random\n",
    "\n",
    "#creating the function to sum the odd numbers\n",
    "def calculate_odd_sum(series):\n",
    "    \n",
    "    total_sum = 0\n",
    "    for val in series:\n",
    "        if val % 2 != 0:\n",
    "            total_sum += val      \n",
    "    return total_sum\n",
    "\n",
    "#creating the function to create a list of random numbers\n",
    "def generate_array(size):\n",
    "    series = []\n",
    "    for i in range(size):\n",
    "        series.append(random.randint(-100, 100))\n",
    "    return series\n",
    "\n",
    "\n",
    "time_lst1 = []\n",
    "for i in range(1, 26):\n",
    "    time_sum = 0\n",
    "    for j in range(5):\n",
    "        \n",
    "        series = generate_array(2**i)\n",
    "                \n",
    "        #starting the time\n",
    "        start = time.time()\n",
    "        \n",
    "        calculate_odd_sum(series)\n",
    "    \n",
    "        #ending the time\n",
    "        end = time.time()\n",
    "\n",
    "        #counting the time spend\n",
    "        time_sum = time_sum + (end - start)\n",
    "        \n",
    "    #printing the time spend\n",
    "    time_lst1.append(time_sum/5)\n",
    "    print(time_sum/5)"
   ]
  },
  {
   "cell_type": "markdown",
   "id": "f11c639d",
   "metadata": {},
   "source": [
    "4) Analyse runtime variability at one fixed dataset size. E.g. choose n = 500000 and run the above code many times (for every run generate a new list/dataset). Does it take a different time to execute on the same input? Why? Write down some reasons, why does the algorithm take a different amount of time to execute on the same size input size?"
   ]
  },
  {
   "cell_type": "markdown",
   "id": "87c34729",
   "metadata": {},
   "source": [
    " - Solution: Every time we run the code the list have the different number of the odd numbers therefore, it takes different time to run the code."
   ]
  },
  {
   "cell_type": "code",
   "execution_count": 4,
   "id": "4f3f2986",
   "metadata": {},
   "outputs": [
    {
     "name": "stdout",
     "output_type": "stream",
     "text": [
      "10\n",
      "0.860584020614624\n",
      "0.46457791328430176\n",
      "0.43416666984558105\n",
      "0.538203239440918\n",
      "0.442432165145874\n",
      "0.43533778190612793\n",
      "0.4402756690979004\n",
      "0.4738450050354004\n",
      "0.5547938346862793\n",
      "0.49365925788879395\n"
     ]
    }
   ],
   "source": [
    "#importing time library to count time\n",
    "import time\n",
    "\n",
    "#importing the library to generate random numbers in the arrays\n",
    "import random\n",
    "\n",
    "#creating the function to sum the odd numbers\n",
    "def calculate_odd_sum(series):\n",
    "    \n",
    "    total_sum = 0\n",
    "    for val in series:\n",
    "        if val % 2 != 0:\n",
    "            total_sum += val      \n",
    "    return total_sum\n",
    "\n",
    "#creating the function to create a list of random numbers\n",
    "def generate_array(size):\n",
    "    series = []\n",
    "    for i in range(size):\n",
    "        series.append(random.randint(-100, 100))\n",
    "    return series\n",
    "\n",
    "time_lst2 = []\n",
    "\n",
    "N = int(input())\n",
    "for i in range(N):\n",
    "\n",
    "    #starting the time\n",
    "    start = time.time()\n",
    "\n",
    "    series = generate_array(500000)\n",
    "    calculate_odd_sum(series)\n",
    "\n",
    "    #ending the time\n",
    "    end = time.time()\n",
    "\n",
    "    #printing the time spend\n",
    "    time_lst2.append(end - start)\n",
    "    print(end - start)"
   ]
  },
  {
   "cell_type": "markdown",
   "id": "fe6e3c07",
   "metadata": {},
   "source": [
    "5) Create plots showing results of experiments from steps 3 and step 4. Which plot should you use? Make sure to add labels to your axes and a title to your plots. Interpret what you see in the plots."
   ]
  },
  {
   "cell_type": "markdown",
   "id": "857402eb",
   "metadata": {},
   "source": [
    "***Step 3 plot***"
   ]
  },
  {
   "cell_type": "code",
   "execution_count": 1,
   "id": "eeddc4d0",
   "metadata": {},
   "outputs": [
    {
     "ename": "NameError",
     "evalue": "name 'time_lst1' is not defined",
     "output_type": "error",
     "traceback": [
      "\u001b[1;31m---------------------------------------------------------------------------\u001b[0m",
      "\u001b[1;31mNameError\u001b[0m                                 Traceback (most recent call last)",
      "Input \u001b[1;32mIn [1]\u001b[0m, in \u001b[0;36m<cell line: 5>\u001b[1;34m()\u001b[0m\n\u001b[0;32m      2\u001b[0m \u001b[38;5;28;01mimport\u001b[39;00m \u001b[38;5;21;01mmatplotlib\u001b[39;00m\u001b[38;5;21;01m.\u001b[39;00m\u001b[38;5;21;01mpyplot\u001b[39;00m \u001b[38;5;28;01mas\u001b[39;00m \u001b[38;5;21;01mplt\u001b[39;00m\n\u001b[0;32m      4\u001b[0m X \u001b[38;5;241m=\u001b[39m []\n\u001b[1;32m----> 5\u001b[0m Y \u001b[38;5;241m=\u001b[39m \u001b[43mtime_lst1\u001b[49m\n\u001b[0;32m      6\u001b[0m \u001b[38;5;28;01mfor\u001b[39;00m i \u001b[38;5;129;01min\u001b[39;00m \u001b[38;5;28mrange\u001b[39m(\u001b[38;5;241m1\u001b[39m, \u001b[38;5;241m26\u001b[39m):\n\u001b[0;32m      7\u001b[0m     X\u001b[38;5;241m.\u001b[39mappend(\u001b[38;5;241m2\u001b[39m\u001b[38;5;241m*\u001b[39m\u001b[38;5;241m*\u001b[39mi)\n",
      "\u001b[1;31mNameError\u001b[0m: name 'time_lst1' is not defined"
     ]
    }
   ],
   "source": [
    "#plotting    \n",
    "import matplotlib.pyplot as plt\n",
    "\n",
    "X = []\n",
    "Y = time_lst1\n",
    "for i in range(1, 26):\n",
    "    X.append(2**i)\n",
    "    \n",
    "plt.figure(figsize=(8, 6), dpi=100)\n",
    "print(X.shape)\n",
    "plt.plot(X, Y)\n",
    "plt.title(\"Time variability\")\n",
    "plt.xlabel('Length of the array')\n",
    "plt.ylabel('Time spent')\n",
    "plt.show()"
   ]
  },
  {
   "cell_type": "markdown",
   "id": "cb1aa53c",
   "metadata": {},
   "source": [
    "***Step 4 plot***"
   ]
  },
  {
   "cell_type": "code",
   "execution_count": 8,
   "id": "d2adff00",
   "metadata": {},
   "outputs": [
    {
     "data": {
      "image/png": "[encoded data removed]",
      "text/plain": [
       "<Figure size 800x600 with 1 Axes>"
      ]
     },
     "metadata": {},
     "output_type": "display_data"
    }
   ],
   "source": [
    "#plotting    \n",
    "import matplotlib.pyplot as plt\n",
    "\n",
    "X = time_lst2\n",
    "Y = []\n",
    "for i in range(1, N+1):\n",
    "    Y.append(i)\n",
    "    \n",
    "plt.figure(figsize=(8, 6), dpi=100)\n",
    "plt.plot(X, Y)\n",
    "plt.title(\"Time variability\")\n",
    "plt.xlabel('Times')\n",
    "plt.ylabel('Time spent')\n",
    "plt.show()"
   ]
  },
  {
   "cell_type": "markdown",
   "id": "92f68fa8",
   "metadata": {},
   "source": [
    "**EX 4**\n",
    "\n",
    "Measure a sorting algorithm that is part of your programming language's standard library. Briefly describe the algorithm and state its computational complexity (you might need to dig a bit of documentation for it). Follow similar steps to analyse the sorting algorithm as you did in EX 2/3 (no need to analyse variability (step 4) this time).\n",
    "\n",
    "Try to overlay some function T(x) (relation between input array size and output time, e.g. T(x) = 2*x (seconds), where x is input list's length) that would approximate the built-in sort timings well. What T(x) did you choose and how?\n",
    "\n",
    "Try to measure how many integers (N) can your system roughly sort in 1 minute. If your system cannot handle it, feel free to choose a lower bound time. Predict what would be the sorting time be if you increase N 100 or 1000 times."
   ]
  },
  {
   "cell_type": "markdown",
   "id": "06a570c6",
   "metadata": {},
   "source": [
    " - Explanation: Built-in sorting algorithm is Timsort in python, and it is the complexity of O(nlogn). It is the combination of the quicksort and mergesort.\n",
    " I found this information https://en.wikipedia.org/wiki/Timsort from wikipedia."
   ]
  },
  {
   "cell_type": "markdown",
   "id": "d2aba624",
   "metadata": {},
   "source": [
    "***Step 1 in EX 2/3***"
   ]
  },
  {
   "cell_type": "code",
   "execution_count": 10,
   "id": "a2d395b0",
   "metadata": {},
   "outputs": [
    {
     "name": "stdout",
     "output_type": "stream",
     "text": [
      "10\n",
      "-100\n",
      "0.0\n"
     ]
    }
   ],
   "source": [
    "#importing the library to generate random numbers\n",
    "import random\n",
    "\n",
    "#importing time library to count time\n",
    "import time\n",
    "\n",
    "#N variable is the number of integers\n",
    "N = int(input())\n",
    "\n",
    "#giving range to get numbers between this range\n",
    "rng = input()\n",
    "\n",
    "#list of range\n",
    "lst = rng.split()\n",
    "\n",
    "#random numbers list\n",
    "lst_random = []\n",
    "\n",
    "#adding the random numbers to list\n",
    "for i in range(N):\n",
    "    lst_random.append(random.randint(int(lst[0]), int(lst[-1])))\n",
    "\n",
    "#starting the time\n",
    "start = time.time()\n",
    "\n",
    "#sorting the list of the random numbers\n",
    "lst_random.sort()\n",
    "    \n",
    "#ending the time\n",
    "end = time.time()\n",
    "\n",
    "#printing the time spend\n",
    "print(end-start)"
   ]
  },
  {
   "cell_type": "markdown",
   "id": "684599a3",
   "metadata": {},
   "source": [
    "***Step 2 and 3 in EX 2/3***"
   ]
  },
  {
   "cell_type": "code",
   "execution_count": null,
   "id": "2777cd12",
   "metadata": {},
   "outputs": [],
   "source": [
    "#importing time library to count time\n",
    "import time\n",
    "\n",
    "#importing the library to generate random numbers in the arrays\n",
    "import random\n",
    "\n",
    "#creating the function to create a list of random numbers\n",
    "def generate_array(size):\n",
    "    series = []\n",
    "    for i in range(size):\n",
    "        series.append(random.randint(-100, 100))\n",
    "    return series\n",
    "\n",
    "\n",
    "time_lst1 = []\n",
    "for i in range(1, 26):\n",
    "    time_sum = 0\n",
    "    for j in range(5):\n",
    "        \n",
    "        series = generate_array(2**i)\n",
    "        \n",
    "        #starting the time\n",
    "        start = time.time()\n",
    "        \n",
    "        series.sort()\n",
    "    \n",
    "        #ending the time\n",
    "        end = time.time()\n",
    "\n",
    "        #counting the time spend\n",
    "        time_sum = time_sum + (end - start)\n",
    "        \n",
    "    #printing the time spend\n",
    "    time_lst1.append(time_sum/5)\n",
    "    print(time_sum/5)"
   ]
  },
  {
   "cell_type": "markdown",
   "id": "72aa6179",
   "metadata": {},
   "source": [
    "**EX 5**\n",
    "\n",
    "f(n) = 3n^4 + n and g(n) = n^4 + n^2. Prove that f(n) = Theta(g(n)) by finding suitable c1, c2 and n0. Plot the function f, and also c1 * g(n) and c2 * g(n) (practically you should see a plot where your f(n) is sandwiched by c1*g(n) and c2*g(n) after n0."
   ]
  },
  {
   "cell_type": "markdown",
   "id": "01579514",
   "metadata": {},
   "source": [
    "***Solution***\n",
    "\n",
    "Using c1 * g(n) ≤ f(n) ≤ c2 * g(n) formula, I found that c1 = 2(for c1 bounded from below), c2 = 4(for c1 bounded from below) and n0 = 2\n",
    "\n",
    "f(n) = Θ(g(n)) It is in between constant bounds.\n",
    "\n",
    "To prove this this statement I plot the function"
   ]
  },
  {
   "cell_type": "code",
   "execution_count": null,
   "id": "9954a9f5",
   "metadata": {},
   "outputs": [],
   "source": [
    "import matplotlib.pyplot as plt   \n",
    "\n",
    "plt.figure(figsize=(8, 6))\n",
    "\n",
    "c1 = 2\n",
    "c2 = 4\n",
    "x = []\n",
    "f = []\n",
    "f1 = []\n",
    "f2 = []\n",
    "\n",
    "for n in range(2, 30):\n",
    "    f.append(3 * n ** 4 + n)\n",
    "    f1.append(c1 * (n ** 4 + n ** 2))\n",
    "    f2.append(c2 * (n ** 4 + n ** 2))\n",
    "    x.append(n)\n",
    "    \n",
    "\n",
    "plt.plot(x,f)\n",
    "plt.plot(x,f1)\n",
    "plt.plot(x,f2)\n",
    "\n",
    "plt.title(\"Big theta proof plot\")\n",
    "plt.legend(['f(n)','c1 * g(n)','c2 * g(n)'])\n",
    "plt.xlabel('inputs of n')\n",
    "plt.ylabel('values of the function')\n",
    "plt.show()"
   ]
  },
  {
   "cell_type": "markdown",
   "id": "902ffb6c",
   "metadata": {},
   "source": [
    "**References**\n",
    "\n",
    "Introduction to Algorithms(third edition): Thomas H.Cormen, Charles E.Leiserson, Ronald L.Rivest, Clifford Stein."
   ]
  }
 ],
 "metadata": {
  "kernelspec": {
   "display_name": "Python 3 (ipykernel)",
   "language": "python",
   "name": "python3"
  },
  "language_info": {
   "codemirror_mode": {
    "name": "ipython",
    "version": 3
   },
   "file_extension": ".py",
   "mimetype": "text/x-python",
   "name": "python",
   "nbconvert_exporter": "python",
   "pygments_lexer": "ipython3",
   "version": "3.10.6"
  }
 },
 "nbformat": 4,
 "nbformat_minor": 5
}
